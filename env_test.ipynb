{
 "cells": [
  {
   "cell_type": "code",
   "execution_count": 1,
   "metadata": {},
   "outputs": [],
   "source": [
    "import numpy as np  # for array stuff and random\n",
    "import random\n",
    "import matplotlib.pyplot as plt  # for graphing our mean rewards over time\n",
    "from matplotlib import style  # to make pretty charts because it matters.\n",
    "import os\n",
    "import shutil\n",
    "\n",
    "import gym\n",
    "from gym import spaces\n",
    "from gym import envs\n",
    "from gym.utils import seeding, EzPickle\n",
    "\n",
    "from stable_baselines3 import A2C"
   ]
  },
  {
   "cell_type": "code",
   "execution_count": 2,
   "metadata": {},
   "outputs": [],
   "source": [
    "seed = 543 # Do not change this\n",
    "def fix(env, seed):\n",
    "    env.seed(seed)\n",
    "    env.action_space.seed(seed)\n",
    "    np.random.seed(seed)\n",
    "    random.seed(seed)"
   ]
  },
  {
   "cell_type": "code",
   "execution_count": 3,
   "metadata": {},
   "outputs": [],
   "source": [
    "copyDir = 'C:/Users/johnn/Desktop/file3'# 複製資料夾\n",
    "putDir = 'C:/Users/johnn/Desktop/loop test'# 複製要放的資料夾\n",
    "\n",
    "for root, dirs, files in os.walk(copyDir):\n",
    "    # 針對檔案單層複製\n",
    "    for fileName in files:\n",
    "\n",
    "        # 取得要複製檔案的完整路徑\n",
    "        fileP = root + '/' + fileName\n",
    "        # 取得要複製檔案放置的完整路徑\n",
    "        newFP = putDir + '/' + fileName\n",
    "\n",
    "        # 進行複製 (有檔案會直接覆蓋)\n",
    "        shutil.copyfile(\n",
    "            fileP,\n",
    "            newFP\n",
    "            )"
   ]
  },
  {
   "cell_type": "code",
   "execution_count": 4,
   "metadata": {
    "scrolled": true
   },
   "outputs": [
    {
     "name": "stdout",
     "output_type": "stream",
     "text": [
      "650 2473.63 13876.7 17.27 1991.91\n"
     ]
    }
   ],
   "source": [
    "env = gym.make('pumpingAllocation-v7')\n",
    "fix(env, seed)\n",
    "#model = A2C.load(\"a2c_test3\")\n",
    "\n",
    "S_max = env.max_storage\n",
    "D_min, D_max = np.min(env.demands), np.max(env.demands)\n",
    "In_min, In_max = np.min(env.rivers), np.max(env.rivers)\n",
    "\n",
    "print(S_max, D_min, D_max, In_min, In_max)"
   ]
  },
  {
   "cell_type": "code",
   "execution_count": 5,
   "metadata": {
    "scrolled": true
   },
   "outputs": [
    {
     "name": "stdout",
     "output_type": "stream",
     "text": [
      "----------test 1 start-------------\n",
      "第 1旬, 水庫水量: 400, Action:[5, 0], SW、GW:[6912,   0], 需水量:5031, Reward: -2.0\n",
      "2249.824 0.0\n",
      "第 2旬, 水庫水量:   0, Action:[5, 0], SW、GW:[6912,   0], 需水量:5001, Reward: -2.0\n",
      "2248.992 0.0\n",
      "第 3旬, 水庫水量:   0, Action:[5, 0], SW、GW:[6912,   0], 需水量:5241, Reward: -2.0\n",
      "2733.696 0.0\n",
      "第 4旬, 水庫水量:   0, Action:[5, 0], SW、GW:[6912,   0], 需水量:5679, Reward: -2.0\n",
      "2725.92 0.0\n",
      "第 5旬, 水庫水量:   0, Action:[5, 0], SW、GW:[6912,   0], 需水量:5409, Reward: -2.0\n",
      "2821.8239999999996 0.0\n",
      "第 6旬, 水庫水量:   0, Action:[5, 0], SW、GW:[6912,   0], 需水量:5469, Reward: -2.0\n",
      "2580.768 0.0\n",
      "第 7旬, 水庫水量:   0, Action:[5, 0], SW、GW:[6912,   0], 需水量:6123, Reward: -2.0\n",
      "2249.856 0.0\n",
      "第 8旬, 水庫水量:   0, Action:[5, 0], SW、GW:[6912,   0], 需水量:6433, Reward: -2.0\n",
      "1957.824 0.0\n",
      "第 9旬, 水庫水量:   0, Action:[5, 0], SW、GW:[6912,   0], 需水量:6113, Reward: -2.0\n",
      "1953.504 0.0\n",
      "第10旬, 水庫水量:   0, Action:[5, 0], SW、GW:[6912,   0], 需水量:7421, Reward: -2.0\n",
      "1836.0 0.0\n",
      "第11旬, 水庫水量:   0, Action:[5, 0], SW、GW:[6912,   0], 需水量:7381, Reward: -2.0\n",
      "1804.896 0.0\n",
      "第12旬, 水庫水量:   0, Action:[5, 0], SW、GW:[6912,   0], 需水量:7481, Reward: -2.0\n",
      "2118.528 0.0\n",
      "第13旬, 水庫水量:   0, Action:[5, 0], SW、GW:[6912,   0], 需水量:7536, Reward: -2.0\n",
      "2137.536 0.0\n",
      "第14旬, 水庫水量:   0, Action:[5, 0], SW、GW:[6912,   0], 需水量:7456, Reward: -2.0\n",
      "2053.728 0.0\n",
      "第15旬, 水庫水量:   0, Action:[5, 0], SW、GW:[6912,   0], 需水量:7406, Reward: -2.0\n",
      "2662.848 0.0\n"
     ]
    },
    {
     "ename": "Exception",
     "evalue": "MODFLOW did not terminate normally.",
     "output_type": "error",
     "traceback": [
      "\u001b[1;31m---------------------------------------------------------------------------\u001b[0m",
      "\u001b[1;31mException\u001b[0m                                 Traceback (most recent call last)",
      "Cell \u001b[1;32mIn[5], line 18\u001b[0m\n\u001b[0;32m     16\u001b[0m action \u001b[38;5;241m=\u001b[39m [\u001b[38;5;241m5\u001b[39m, \u001b[38;5;241m0\u001b[39m]\n\u001b[0;32m     17\u001b[0m \u001b[38;5;66;03m#action = [random.randint(0,10), random.randint(0,10)]\u001b[39;00m\n\u001b[1;32m---> 18\u001b[0m next_state, reward, done, info \u001b[38;5;241m=\u001b[39m \u001b[43menv\u001b[49m\u001b[38;5;241;43m.\u001b[39;49m\u001b[43mstep\u001b[49m\u001b[43m(\u001b[49m\u001b[43maction\u001b[49m\u001b[43m)\u001b[49m\n\u001b[0;32m     20\u001b[0m \u001b[38;5;66;03m#還原標準化\u001b[39;00m\n\u001b[0;32m     21\u001b[0m storage \u001b[38;5;241m=\u001b[39m (state[\u001b[38;5;241m0\u001b[39m]\u001b[38;5;241m+\u001b[39m\u001b[38;5;241m1\u001b[39m)\u001b[38;5;241m/\u001b[39m\u001b[38;5;241m2\u001b[39m\u001b[38;5;241m*\u001b[39mS_max\n",
      "File \u001b[1;32m~\\AppData\\Local\\Programs\\Python\\Python311\\Lib\\site-packages\\gym\\envs\\custom\\pumpingAllocation_choshui2.py:237\u001b[0m, in \u001b[0;36mpumpingAllocationEnvCS2.step\u001b[1;34m(self, action)\u001b[0m\n\u001b[0;32m    235\u001b[0m success, buff \u001b[38;5;241m=\u001b[39m \u001b[38;5;28mself\u001b[39m\u001b[38;5;241m.\u001b[39mmf\u001b[38;5;241m.\u001b[39mrun_model(silent\u001b[38;5;241m=\u001b[39m\u001b[38;5;28;01mTrue\u001b[39;00m)    \u001b[38;5;66;03m# Run the model\u001b[39;00m\n\u001b[0;32m    236\u001b[0m \u001b[38;5;28;01mif\u001b[39;00m \u001b[38;5;129;01mnot\u001b[39;00m success:\n\u001b[1;32m--> 237\u001b[0m     \u001b[38;5;28;01mraise\u001b[39;00m \u001b[38;5;167;01mException\u001b[39;00m(\u001b[38;5;124m\"\u001b[39m\u001b[38;5;124mMODFLOW did not terminate normally.\u001b[39m\u001b[38;5;124m\"\u001b[39m)\n\u001b[0;32m    239\u001b[0m hds \u001b[38;5;241m=\u001b[39m bf\u001b[38;5;241m.\u001b[39mHeadFile(\u001b[38;5;28mself\u001b[39m\u001b[38;5;241m.\u001b[39mmodelname\u001b[38;5;241m+\u001b[39m\u001b[38;5;124m'\u001b[39m\u001b[38;5;124m.hds\u001b[39m\u001b[38;5;124m'\u001b[39m)\n\u001b[0;32m    240\u001b[0m times \u001b[38;5;241m=\u001b[39m hds\u001b[38;5;241m.\u001b[39mget_times()\n",
      "\u001b[1;31mException\u001b[0m: MODFLOW did not terminate normally."
     ]
    }
   ],
   "source": [
    "env = gym.make('pumpingAllocation-v7')\n",
    "fix(env, seed)\n",
    "#model = A2C.load(\"a2c_test3\")\n",
    "\n",
    "SW, GW, Sup, D, inflow = [], [], [], [], []\n",
    "deficit=[]\n",
    "S, h = [], []\n",
    "num_satisfy, num_unsatisfy, num_sat_follow_unsat = 0, 0, 0\n",
    "\n",
    "for i in range(3):\n",
    "    print('----------test',i+1,'start-------------')\n",
    "    state = env.reset()\n",
    "    total_step=0\n",
    "    while True:\n",
    "        #action, _states = model.predict(state)\n",
    "        action = [5, 0]\n",
    "        #action = [random.randint(0,10), random.randint(0,10)]\n",
    "        next_state, reward, done, info = env.step(action)\n",
    "        \n",
    "        #還原標準化\n",
    "        storage = (state[0]+1)/2*S_max\n",
    "        #Zmin_before = (state[1]+1)/2*100-100\n",
    "        #Zmin_after = (next_state[1]+1)/2*100-100\n",
    "        demand = (state[1]+1)/2*(D_max-D_min+400)+D_min-200\n",
    "        inf = (state[2]+1)/2*(In_max-In_min)+In_min\n",
    "        \n",
    "        print(f'第{total_step+1:2.0f}旬, 水庫水量:{storage:4.0f}, Action:{action}, SW、GW:[{action[0]*16*86.4:3.0f}, {action[1]*120*2.151:3.0f}], 需水量:{demand:4.0f}, Reward: {reward:.1f}')\n",
    "        print(env.SW, env.GW)\n",
    "        \n",
    "        SW.append(action[0]*16*86.4)\n",
    "        GW.append(action[1]*120*2.151)\n",
    "        Sup.append(action[0]*16*86.4+action[1]*120*2.151)\n",
    "        D.append(demand)\n",
    "        deficit.append(max(0,demand-action[0]*16*86.4-action[1]*120*2.151))\n",
    "        S.append(storage)\n",
    "        #h.append(Zmin_before)\n",
    "        inflow.append(inf)\n",
    "        '''\n",
    "        if deficit[-1]>0:\n",
    "            num_unsatisfy += 1\n",
    "        else:\n",
    "            if len(deficit)>1 and deficit[-2]>0:\n",
    "                num_sat_follow_unsat += 1\n",
    "                num_satisfy += 1\n",
    "            else:\n",
    "                num_satisfy += 1\n",
    "        '''\n",
    "        state = next_state\n",
    "        total_step+=1\n",
    "\n",
    "        if done:\n",
    "            break"
   ]
  },
  {
   "cell_type": "code",
   "execution_count": null,
   "metadata": {},
   "outputs": [],
   "source": [
    "import matplotlib.pyplot as plt\n",
    "import pandas as pd\n",
    "end=180\n",
    "\n",
    "df = pd.DataFrame({'SW':SW[:end],\n",
    "                   'GW':GW[:end],\n",
    "                   'Supply':Sup[:end],\n",
    "                   'Demand':D[:end],\n",
    "                   'ith period of tendays':[i for i in range(1,end+1)],\n",
    "                   'deficit':deficit[:end],\n",
    "                   'S':S[:end],\n",
    "                   'h':h[:end],\n",
    "                   'In':inflow[:end],\n",
    "                   'deficit_rate':[(b-a)/b*100 for a,b in zip(Sup[:end],D[:end])]\n",
    "                  }) \n",
    "\n",
    "\n",
    "ax = df[['SW','GW']].plot(kind='bar', stacked=True, figsize=(18,10), width=0.7,\n",
    "                          xlim=[1,180], ylim=[0,15000], xticks=[9*i for i in range(1,21)], fontsize=14)\n",
    "df['Demand'].plot(kind='line', color='#FF0000', lw=2, xlim=[1,180],legend=True)\n",
    "df['Supply'].plot(kind='line', style='g.-', lw=2, xlim=[1,180],legend=True)\n",
    "ax.set_title('SW+GW_Scenerio_{}'.format('random'), fontsize=16)\n",
    "ax.set_xlabel(\"tendays\", fontsize=14)\n",
    "ax.set_ylabel(\"m^3\", fontsize=14)\n",
    "ax.legend()"
   ]
  },
  {
   "cell_type": "code",
   "execution_count": null,
   "metadata": {},
   "outputs": [],
   "source": [
    "print(num_satisfy, num_unsatisfy, num_sat_follow_unsat)\n",
    "rel = round(num_satisfy/180,2)\n",
    "res = round(num_sat_follow_unsat/num_unsatisfy,2)\n",
    "vul = round(np.sum(deficit)/num_unsatisfy/np.sum(D),2)\n",
    "\n",
    "SI = round((rel*res*(1-vul))**0.3333,2)\n",
    "print(rel,res,vul)\n",
    "print(SI)"
   ]
  },
  {
   "cell_type": "code",
   "execution_count": null,
   "metadata": {},
   "outputs": [],
   "source": [
    "ax = df[['S', 'In']].plot(kind='line', lw='2', figsize=(15,9),xlim=[1,180], ylim=[0,26000], xticks=[9*i for i in range(1,21)])\n",
    "ax.set_title('Storage & Inflow _Scenerio_{}'.format(1), fontsize=16)\n",
    "ax.set_xlabel(\"tendays\", fontsize=14)\n",
    "ax.set_ylabel(\"m^3\", fontsize=14)\n",
    "ax.legend()"
   ]
  },
  {
   "cell_type": "code",
   "execution_count": null,
   "metadata": {},
   "outputs": [],
   "source": [
    "ax = df['GW'].plot(kind='area', color='#00bbff', figsize=(15,9), xlim=[1,180], xticks=[9*i for i in range(1,21)], legend=True)\n",
    "ax2 = df['h'].plot(kind='line', secondary_y = True,  lw=2, color='#FF0000', legend=True)\n",
    "ax.set_title('Groundwater Head & Pumping _Scenerio_{}'.format(1), fontsize=16)\n",
    "ax.set_xlabel(\"tendays\", fontsize=14)\n",
    "ax.set_ylabel(\"groundwater pumping (m^3)\", fontsize=14)\n",
    "ax2.set_ylabel(\"groundwater head (m)\", fontsize=14)"
   ]
  },
  {
   "cell_type": "code",
   "execution_count": null,
   "metadata": {},
   "outputs": [],
   "source": [
    "a = 7400\n",
    "reward = 0\n",
    "SW=10000\n",
    "GW=2700\n",
    "\n",
    "if (a - SW - GW)/a >= 0.3:\n",
    "    reward -=1\n",
    "elif (a - SW - GW)/a > 0:\n",
    "    reward +=0.5\n",
    "elif (a - SW - GW)/a >= -0.3:\n",
    "    reward +=1\n",
    "else:\n",
    "    reward -=1\n",
    "    \n",
    "print(reward)"
   ]
  },
  {
   "cell_type": "code",
   "execution_count": null,
   "metadata": {},
   "outputs": [],
   "source": []
  }
 ],
 "metadata": {
  "kernelspec": {
   "display_name": "Python 3 (ipykernel)",
   "language": "python",
   "name": "python3"
  },
  "language_info": {
   "codemirror_mode": {
    "name": "ipython",
    "version": 3
   },
   "file_extension": ".py",
   "mimetype": "text/x-python",
   "name": "python",
   "nbconvert_exporter": "python",
   "pygments_lexer": "ipython3",
   "version": "3.11.2"
  }
 },
 "nbformat": 4,
 "nbformat_minor": 4
}
