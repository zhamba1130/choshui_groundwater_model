{
 "cells": [
  {
   "cell_type": "code",
   "execution_count": 1,
   "id": "762e248a",
   "metadata": {},
   "outputs": [],
   "source": [
    "import flopy\n",
    "import numpy as np\n",
    "import matplotlib.pyplot as plt\n",
    "from matplotlib import colors"
   ]
  },
  {
   "cell_type": "code",
   "execution_count": 2,
   "id": "ea4a2c86",
   "metadata": {},
   "outputs": [],
   "source": [
    "path = 'choshui.dis' \n",
    "l = 0\n",
    "\n",
    "with open(path, 'r+') as f:\n",
    "    d = f.readlines()\n",
    "    f.seek(0)\n",
    "    for line in d:\n",
    "        if 'Layer' in line:\n",
    "            l += 1\n",
    "        \n",
    "        if l<=1:\n",
    "            f.write(line)\n",
    "    f.truncate()"
   ]
  },
  {
   "cell_type": "code",
   "execution_count": 3,
   "id": "854a0133",
   "metadata": {},
   "outputs": [],
   "source": [
    "path = 'choshui.bas'\n",
    "ibL = 0\n",
    "stH = 0\n",
    "\n",
    "with open(path, 'r+') as f:\n",
    "    d = f.readlines()\n",
    "    f.seek(0)\n",
    "    for line in d:\n",
    "        if 'IBOUND Layer' in line:\n",
    "            ibL += 1\n",
    "        if 'STARTING HEADS Layer' in line:\n",
    "            stH += 1\n",
    "        \n",
    "        if ibL<=1:\n",
    "            f.write(line)\n",
    "        elif 0<stH<=1:\n",
    "            f.write(line)\n",
    "        elif '9.9900e+02' in line:\n",
    "            f.write(line)\n",
    "    f.truncate()\n"
   ]
  },
  {
   "cell_type": "code",
   "execution_count": 4,
   "id": "2fe76d5e",
   "metadata": {},
   "outputs": [],
   "source": [
    "path = 'choshui.lpf'\n",
    "\n",
    "with open(path, 'r+') as f:\n",
    "    d = f.readlines()\n",
    "    f.seek(0)\n",
    "    for line in d:\n",
    "        if 'HYDRAULIC CONDUCTIVITY Layer   2' in line:\n",
    "            break\n",
    "        else:\n",
    "            f.write(line)\n",
    "    f.truncate()\n",
    "\n"
   ]
  },
  {
   "cell_type": "code",
   "execution_count": 5,
   "id": "c9abadd2",
   "metadata": {},
   "outputs": [],
   "source": [
    "path = 'choshui.zone'\n",
    "write = True\n",
    "\n",
    "with open(path, 'r+') as f:\n",
    "    d = f.readlines()\n",
    "    f.seek(0)\n",
    "    for line in d:\n",
    "        if 'kxzone2' in line or 'szone2' in line:\n",
    "            write = False\n",
    "        elif 'szone1' in line:\n",
    "            write = True\n",
    "        \n",
    "        if write:\n",
    "            f.write(line)\n",
    "    f.truncate()\n",
    "\n"
   ]
  },
  {
   "cell_type": "code",
   "execution_count": null,
   "id": "17028c71",
   "metadata": {},
   "outputs": [],
   "source": []
  }
 ],
 "metadata": {
  "kernelspec": {
   "display_name": "Python 3 (ipykernel)",
   "language": "python",
   "name": "python3"
  },
  "language_info": {
   "codemirror_mode": {
    "name": "ipython",
    "version": 3
   },
   "file_extension": ".py",
   "mimetype": "text/x-python",
   "name": "python",
   "nbconvert_exporter": "python",
   "pygments_lexer": "ipython3",
   "version": "3.11.2"
  }
 },
 "nbformat": 4,
 "nbformat_minor": 5
}
